{
 "cells": [
  {
   "cell_type": "markdown",
   "metadata": {},
   "source": [
    "# INFO 3350/6350\n",
    "\n",
    "## Lecture 06: Feature selection"
   ]
  },
  {
   "cell_type": "markdown",
   "metadata": {},
   "source": [
    "## Feature selection\n",
    "\n",
    "We've spoken before about **overfitting**. A model that is overfit has learned features of the training data that are unlikely to generalize to new, unseen data. As a rule of thumb, a model is very likely to be overfit if it uses on the order of as many features as the training data contains examples. The signature of an overfit model is good performance when evaluated against the training data, but poor performance when evaluated against held-out test data. \n",
    "\n",
    "We also know that models fit to high-dimensional datasets can be difficult to interpret. If we use fewer features (while maintaining good performance), it will generally be easier to explain our system.\n",
    "\n",
    "> **Discuss: How might you go about selecting the best features for a classification task?**\n",
    "\n",
    "Mathematical dimension reduction is one approach to addressing high dimensionality and overfitting. Another is **feature selection**. When we select features to retain in our model, we're looking for ones that seem likely to provide useful information about the relationship between our objects and the class labels we seek to assign. Two useful approaches to feature selection are **ANOVA f-statistics** and **mutual information**. \n",
    "\n",
    "We'll look at both of these methods to estimate feature importance, then see how to use them in `sklearn` to pare down a feature set. We'll also mention **permutation importance**, a strictly *post hoc* empirical measure of feature importance based on the impact to a specified system of ablating individual features.\n",
    "\n",
    "### *F*-statistic and ANOVA analysis\n",
    "\n",
    "We won't say much more about ANOVA analysis; you should have seen it in your stats class. It's conceptually similar to a *t*-test, in that it compares the difference in the means of two groups relative to the variance within each group. A large *F*-statistic means that two samples are significantly different. For feature selection, we want features that are (significantly) differently distributed between the classes.\n",
    "\n",
    "The problem with the *F*-statistic is that it only works well for linear, normally distributed relationships. The advantages are (1) that this assumption is often valid and (2), it's super easy to calculate, so is fast when run on large datasets.\n",
    "\n",
    "### Mutual information\n",
    "\n",
    "**Mutual information** (MI) is abstractly similar to correlation or covariance -- it's a measure of how much two variables change together. But MI doesn't assume a linear relationship between the variables and it's suitable for categorical data, so is often preferred for our purposes.\n",
    "\n",
    "If you want the math, in the case of categorical data (like we're using here with word counts and class labels), mutual information is calculated as:\n",
    "\n",
    "$$MI(U,V)=\\sum_{i=1}^{|U|} \\sum_{j=1}^{|V|}\\frac{|U_i\\cap V_j|}{N}\\log\\frac{N|U_i \\cap V_j|}{|U_i||V_j|}$$\n",
    "\n",
    "Where $\\cap$ indicates the **insection** of two sets. $N$ is the total number of observations in each vector. $i$ and $j$ represent the possible values in each vector. And $|U_i|$ is the count of instances of value $i$ in vector $U$.\n",
    "\n",
    "If we have two vectors, $U = [\\alpha, \\beta]$ and $V = [\\alpha, \\beta]$, we know that our MI score should be high, since $U$ is identical to $V$. For an *n*-class problem, the maximum unnormalized MI is log(*n*). In our example, $N$ = 2 (two observations per vector) and $i$ and $j$ are both drawn from the set $\\{\\alpha,\\beta\\}$. Hence:\n",
    "\n",
    "$$MI(U,V) = \\frac{1}{2}\\log\\frac{2(1)}{1(1)} + 0 + 0 + \\frac{1}{2}\\log\\frac{2(1)}{1(1)} = 0.693147$$\n",
    "\n",
    "The zeros correspond in this example to misaligned labels, of which there are none, hence $|U_i\\cap V_j| = 0$ for all $i\\neq j$ (again, in this specific example of perfect label alignment, not in all cases).\n",
    "\n",
    "Or consider the slightly more interesting case where $U = [1,1,2]$ and $V = [1,2,2]$. In this case, we calculate:\n",
    "\n",
    "$$MI(U,V) = \\frac{1}{3}\\log\\frac{3(1)}{2(1)} + \\frac{1}{3}\\log\\frac{3(1)}{2(2)} + 0 + \\frac{1}{3}\\log\\frac{3(1)}{1(2)} = 0.174416$$\n",
    "\n",
    "Mutual information is often (but not always) reported on a *normalized* basis, in which the raw MI value is divided by log($N$) (or, technically, by the mean entropy of the two variables, but it amounts to the same thing when there are the same number of classes in each variable), the maximum possible MI value for the case. The normalized MI for the first example is 0.693147/log(2) = 1.0. In the second example, normalized MI = 0.174416/log(3) = 0.15876.\n",
    "\n",
    "See the [sklearn documentation for `mutual_info_classif`](https://scikit-learn.org/stable/modules/generated/sklearn.feature_selection.mutual_info_classif.html) for more information."
   ]
  },
  {
   "cell_type": "code",
   "execution_count": 1,
   "metadata": {
    "tags": []
   },
   "outputs": [],
   "source": [
    "import numpy as np\n",
    "import os\n",
    "import pandas as pd\n",
    "import matplotlib.pyplot as plt\n",
    "import re\n",
    "from sklearn.decomposition import TruncatedSVD\n",
    "from sklearn.feature_extraction.text import CountVectorizer, TfidfVectorizer\n",
    "from sklearn.feature_selection import mutual_info_classif, f_classif, SelectKBest\n",
    "from sklearn.inspection import permutation_importance\n",
    "from sklearn.metrics import classification_report, f1_score\n",
    "from sklearn.model_selection import cross_val_score, train_test_split\n",
    "from sklearn.naive_bayes import BernoulliNB, MultinomialNB, GaussianNB\n",
    "from sklearn.preprocessing import StandardScaler"
   ]
  },
  {
   "cell_type": "code",
   "execution_count": 2,
   "metadata": {},
   "outputs": [],
   "source": [
    "# confirm hand calculations from above\n",
    "\n",
    "assert np.isclose(\n",
    "    mutual_info_classif(\n",
    "        np.array([[1,0]]).T, # transpose to column vector\n",
    "        np.array([1,0]),\n",
    "        discrete_features=True),\n",
    "    0.693147\n",
    ")\n",
    "assert np.isclose(\n",
    "    mutual_info_classif(\n",
    "        np.array([[1,1,2]]).T, # ditto\n",
    "        np.array([1,2,2]),\n",
    "        discrete_features=True),\n",
    "    0.174416\n",
    ")"
   ]
  },
  {
   "cell_type": "markdown",
   "metadata": {},
   "source": [
    "### Demo on trivial data"
   ]
  },
  {
   "cell_type": "code",
   "execution_count": 3,
   "metadata": {
    "tags": []
   },
   "outputs": [
    {
     "name": "stdout",
     "output_type": "stream",
     "text": [
      "f statistic: [4.  0.5]\n",
      "p values: [0.11611652 0.51851852]\n"
     ]
    }
   ],
   "source": [
    "# f-stat\n",
    "X = np.array([[1,1,1,1,0,0], [1,0,1,0,1,0]]).T\n",
    "y = np.array([1,1,1,0,0,0])\n",
    "f_stat, p_vals = f_classif(X,y)\n",
    "print(\"f statistic:\", f_stat)\n",
    "print(\"p values:\", p_vals)"
   ]
  },
  {
   "cell_type": "code",
   "execution_count": 4,
   "metadata": {
    "tags": []
   },
   "outputs": [
    {
     "data": {
      "text/plain": [
       "array([[1],\n",
       "       [1],\n",
       "       [1],\n",
       "       [1],\n",
       "       [0],\n",
       "       [0]])"
      ]
     },
     "execution_count": 4,
     "metadata": {},
     "output_type": "execute_result"
    }
   ],
   "source": [
    "# automated selection\n",
    "SelectKBest(k=1, score_func=f_classif).fit_transform(X,y) # note score_func"
   ]
  },
  {
   "cell_type": "code",
   "execution_count": 5,
   "metadata": {
    "tags": []
   },
   "outputs": [
    {
     "data": {
      "text/plain": [
       "array([0.31825708, 0.05663301])"
      ]
     },
     "execution_count": 5,
     "metadata": {},
     "output_type": "execute_result"
    }
   ],
   "source": [
    "# mutual info\n",
    "mutual_info_classif(X, y, discrete_features=True)"
   ]
  },
  {
   "cell_type": "markdown",
   "metadata": {},
   "source": [
    "## A small corpus\n",
    "\n",
    "About 125,000 news articles, distributed evenly across four categories (world, business, sports, and science/technology), each trimmed to contain **just the first sentence or two of the original article**. [Data source](https://github.com/mhjabreel/CharCnn_Keras/tree/master/data/ag_news_csv), plus minor massaging into current format.\n",
    "\n",
    "Our task will be to predict the category of any news article using a Bayesian classifier, and to examine the impact of feature selection on model performance."
   ]
  },
  {
   "cell_type": "markdown",
   "metadata": {},
   "source": [
    "### Read and clean news data"
   ]
  },
  {
   "cell_type": "code",
   "execution_count": 6,
   "metadata": {
    "tags": []
   },
   "outputs": [
    {
     "data": {
      "text/html": [
       "<div>\n",
       "<style scoped>\n",
       "    .dataframe tbody tr th:only-of-type {\n",
       "        vertical-align: middle;\n",
       "    }\n",
       "\n",
       "    .dataframe tbody tr th {\n",
       "        vertical-align: top;\n",
       "    }\n",
       "\n",
       "    .dataframe thead th {\n",
       "        text-align: right;\n",
       "    }\n",
       "</style>\n",
       "<table border=\"1\" class=\"dataframe\">\n",
       "  <thead>\n",
       "    <tr style=\"text-align: right;\">\n",
       "      <th></th>\n",
       "      <th>label</th>\n",
       "      <th>body</th>\n",
       "    </tr>\n",
       "  </thead>\n",
       "  <tbody>\n",
       "    <tr>\n",
       "      <th>0</th>\n",
       "      <td>Sci_Tech</td>\n",
       "      <td>Mobile phone giant Nokia has unveiled its firs...</td>\n",
       "    </tr>\n",
       "    <tr>\n",
       "      <th>1</th>\n",
       "      <td>Sports</td>\n",
       "      <td>ADELAIDE, Nov 30: Australia crushed New Zealan...</td>\n",
       "    </tr>\n",
       "    <tr>\n",
       "      <th>2</th>\n",
       "      <td>Sports</td>\n",
       "      <td>Flinching in the trenches, holding around quar...</td>\n",
       "    </tr>\n",
       "    <tr>\n",
       "      <th>3</th>\n",
       "      <td>Sports</td>\n",
       "      <td>Miami Dolphins owner Wayne Huizenga and presid...</td>\n",
       "    </tr>\n",
       "    <tr>\n",
       "      <th>4</th>\n",
       "      <td>Sci_Tech</td>\n",
       "      <td>InfoWorld - PeopleSoft's Board of Directors vo...</td>\n",
       "    </tr>\n",
       "    <tr>\n",
       "      <th>5</th>\n",
       "      <td>Sci_Tech</td>\n",
       "      <td>AP - Edward Bitet fought in World War II, buil...</td>\n",
       "    </tr>\n",
       "    <tr>\n",
       "      <th>6</th>\n",
       "      <td>Business</td>\n",
       "      <td>LARRY Ellison, the chief executive of software...</td>\n",
       "    </tr>\n",
       "    <tr>\n",
       "      <th>7</th>\n",
       "      <td>Sci_Tech</td>\n",
       "      <td>AP - Indonesian police on Tuesday summoned the...</td>\n",
       "    </tr>\n",
       "    <tr>\n",
       "      <th>8</th>\n",
       "      <td>World</td>\n",
       "      <td>AP - Police defused a time-bomb in a town near...</td>\n",
       "    </tr>\n",
       "    <tr>\n",
       "      <th>9</th>\n",
       "      <td>World</td>\n",
       "      <td>A full season has passed since the UN Security...</td>\n",
       "    </tr>\n",
       "    <tr>\n",
       "      <th>10</th>\n",
       "      <td>Sci_Tech</td>\n",
       "      <td>November 03, 2004 - The addictive brutality an...</td>\n",
       "    </tr>\n",
       "    <tr>\n",
       "      <th>11</th>\n",
       "      <td>Sports</td>\n",
       "      <td>AP - Gerald Williams and Eric Valent hit solo ...</td>\n",
       "    </tr>\n",
       "    <tr>\n",
       "      <th>12</th>\n",
       "      <td>World</td>\n",
       "      <td>The Palestinians have taken a double hit this ...</td>\n",
       "    </tr>\n",
       "    <tr>\n",
       "      <th>13</th>\n",
       "      <td>Sci_Tech</td>\n",
       "      <td>Hitachi Global Storage Technologies Inc. and I...</td>\n",
       "    </tr>\n",
       "    <tr>\n",
       "      <th>14</th>\n",
       "      <td>Sci_Tech</td>\n",
       "      <td>The new desktops, priced between \\$600 and \\$7...</td>\n",
       "    </tr>\n",
       "    <tr>\n",
       "      <th>15</th>\n",
       "      <td>Sports</td>\n",
       "      <td>by Paul Upham: It was a fight that was to rece...</td>\n",
       "    </tr>\n",
       "    <tr>\n",
       "      <th>16</th>\n",
       "      <td>Business</td>\n",
       "      <td>NEW YORK (Reuters) - Kraft Foods Inc. &amp;lt;A H...</td>\n",
       "    </tr>\n",
       "    <tr>\n",
       "      <th>17</th>\n",
       "      <td>Sports</td>\n",
       "      <td>AP - Jordan Palmer threw a 25-yard touchdown p...</td>\n",
       "    </tr>\n",
       "    <tr>\n",
       "      <th>18</th>\n",
       "      <td>Sci_Tech</td>\n",
       "      <td>The Open Source Development Labs has gone into...</td>\n",
       "    </tr>\n",
       "    <tr>\n",
       "      <th>19</th>\n",
       "      <td>Sports</td>\n",
       "      <td>AP - Jeff Brehaut shot an 11-under 61 Friday a...</td>\n",
       "    </tr>\n",
       "  </tbody>\n",
       "</table>\n",
       "</div>"
      ],
      "text/plain": [
       "       label                                               body\n",
       "0   Sci_Tech  Mobile phone giant Nokia has unveiled its firs...\n",
       "1     Sports  ADELAIDE, Nov 30: Australia crushed New Zealan...\n",
       "2     Sports  Flinching in the trenches, holding around quar...\n",
       "3     Sports  Miami Dolphins owner Wayne Huizenga and presid...\n",
       "4   Sci_Tech  InfoWorld - PeopleSoft's Board of Directors vo...\n",
       "5   Sci_Tech  AP - Edward Bitet fought in World War II, buil...\n",
       "6   Business  LARRY Ellison, the chief executive of software...\n",
       "7   Sci_Tech  AP - Indonesian police on Tuesday summoned the...\n",
       "8      World  AP - Police defused a time-bomb in a town near...\n",
       "9      World  A full season has passed since the UN Security...\n",
       "10  Sci_Tech  November 03, 2004 - The addictive brutality an...\n",
       "11    Sports  AP - Gerald Williams and Eric Valent hit solo ...\n",
       "12     World  The Palestinians have taken a double hit this ...\n",
       "13  Sci_Tech  Hitachi Global Storage Technologies Inc. and I...\n",
       "14  Sci_Tech  The new desktops, priced between \\$600 and \\$7...\n",
       "15    Sports  by Paul Upham: It was a fight that was to rece...\n",
       "16  Business   NEW YORK (Reuters) - Kraft Foods Inc. &lt;A H...\n",
       "17    Sports  AP - Jordan Palmer threw a 25-yard touchdown p...\n",
       "18  Sci_Tech  The Open Source Development Labs has gone into...\n",
       "19    Sports  AP - Jeff Brehaut shot an 11-under 61 Friday a..."
      ]
     },
     "execution_count": 6,
     "metadata": {},
     "output_type": "execute_result"
    }
   ],
   "source": [
    "# read data from disk and examine\n",
    "news = pd.read_csv(os.path.join('..', 'data', 'news', 'news_text.csv.gz'))\n",
    "news.head(20)"
   ]
  },
  {
   "cell_type": "markdown",
   "metadata": {},
   "source": [
    "I bet those datelines will be a problem. Let's get rid of them."
   ]
  },
  {
   "cell_type": "code",
   "execution_count": 7,
   "metadata": {
    "tags": []
   },
   "outputs": [],
   "source": [
    "# a function to get rid of datelines at the start of articles\n",
    "#  matches one or more hyphens or colons in first 40 chars,\n",
    "#  drops everything before that match (plus the match itself)\n",
    "pattern = '[-:]+ '\n",
    "matcher = re.compile(pattern) # compiled regexs are faster\n",
    "\n",
    "def remove_dateline(text, matcher=matcher):\n",
    "    '''\n",
    "    Remove source names and datelines from a text string\n",
    "    If there is a hyphen or colon in the first 40 characters, \n",
    "      drops everything before the hyphen(s)/colon(s)\n",
    "    If no hyphen/colon, do nothing\n",
    "    Return processed string\n",
    "    '''\n",
    "    result = matcher.search(text, endpos=40)\n",
    "    if result:\n",
    "        return text[result.end():]\n",
    "    else:\n",
    "        return text"
   ]
  },
  {
   "cell_type": "code",
   "execution_count": 8,
   "metadata": {
    "tags": []
   },
   "outputs": [],
   "source": [
    "# clean article text\n",
    "news['body'] = news['body'].apply(remove_dateline)"
   ]
  },
  {
   "cell_type": "code",
   "execution_count": 9,
   "metadata": {
    "tags": []
   },
   "outputs": [
    {
     "data": {
      "text/html": [
       "<div>\n",
       "<style scoped>\n",
       "    .dataframe tbody tr th:only-of-type {\n",
       "        vertical-align: middle;\n",
       "    }\n",
       "\n",
       "    .dataframe tbody tr th {\n",
       "        vertical-align: top;\n",
       "    }\n",
       "\n",
       "    .dataframe thead th {\n",
       "        text-align: right;\n",
       "    }\n",
       "</style>\n",
       "<table border=\"1\" class=\"dataframe\">\n",
       "  <thead>\n",
       "    <tr style=\"text-align: right;\">\n",
       "      <th></th>\n",
       "      <th>label</th>\n",
       "      <th>body</th>\n",
       "    </tr>\n",
       "  </thead>\n",
       "  <tbody>\n",
       "    <tr>\n",
       "      <th>0</th>\n",
       "      <td>Sci_Tech</td>\n",
       "      <td>Mobile phone giant Nokia has unveiled its firs...</td>\n",
       "    </tr>\n",
       "    <tr>\n",
       "      <th>1</th>\n",
       "      <td>Sports</td>\n",
       "      <td>Australia crushed New Zealand by 213 runs on t...</td>\n",
       "    </tr>\n",
       "    <tr>\n",
       "      <th>2</th>\n",
       "      <td>Sports</td>\n",
       "      <td>Flinching in the trenches, holding around quar...</td>\n",
       "    </tr>\n",
       "    <tr>\n",
       "      <th>3</th>\n",
       "      <td>Sports</td>\n",
       "      <td>Miami Dolphins owner Wayne Huizenga and presid...</td>\n",
       "    </tr>\n",
       "    <tr>\n",
       "      <th>4</th>\n",
       "      <td>Sci_Tech</td>\n",
       "      <td>PeopleSoft's Board of Directors voted Wednesda...</td>\n",
       "    </tr>\n",
       "    <tr>\n",
       "      <th>5</th>\n",
       "      <td>Sci_Tech</td>\n",
       "      <td>Edward Bitet fought in World War II, built aff...</td>\n",
       "    </tr>\n",
       "    <tr>\n",
       "      <th>6</th>\n",
       "      <td>Business</td>\n",
       "      <td>LARRY Ellison, the chief executive of software...</td>\n",
       "    </tr>\n",
       "    <tr>\n",
       "      <th>7</th>\n",
       "      <td>Sci_Tech</td>\n",
       "      <td>Indonesian police on Tuesday summoned the Amer...</td>\n",
       "    </tr>\n",
       "    <tr>\n",
       "      <th>8</th>\n",
       "      <td>World</td>\n",
       "      <td>Police defused a time-bomb in a town near Prim...</td>\n",
       "    </tr>\n",
       "    <tr>\n",
       "      <th>9</th>\n",
       "      <td>World</td>\n",
       "      <td>A full season has passed since the UN Security...</td>\n",
       "    </tr>\n",
       "    <tr>\n",
       "      <th>10</th>\n",
       "      <td>Sci_Tech</td>\n",
       "      <td>The addictive brutality and enveloping strateg...</td>\n",
       "    </tr>\n",
       "    <tr>\n",
       "      <th>11</th>\n",
       "      <td>Sports</td>\n",
       "      <td>Gerald Williams and Eric Valent hit solo home ...</td>\n",
       "    </tr>\n",
       "    <tr>\n",
       "      <th>12</th>\n",
       "      <td>World</td>\n",
       "      <td>The Palestinians have taken a double hit this ...</td>\n",
       "    </tr>\n",
       "    <tr>\n",
       "      <th>13</th>\n",
       "      <td>Sci_Tech</td>\n",
       "      <td>Hitachi Global Storage Technologies Inc. and I...</td>\n",
       "    </tr>\n",
       "    <tr>\n",
       "      <th>14</th>\n",
       "      <td>Sci_Tech</td>\n",
       "      <td>The new desktops, priced between \\$600 and \\$7...</td>\n",
       "    </tr>\n",
       "    <tr>\n",
       "      <th>15</th>\n",
       "      <td>Sports</td>\n",
       "      <td>It was a fight that was to receive national ex...</td>\n",
       "    </tr>\n",
       "    <tr>\n",
       "      <th>16</th>\n",
       "      <td>Business</td>\n",
       "      <td>Kraft Foods Inc. &amp;lt;A HREF=\"http://www.invest...</td>\n",
       "    </tr>\n",
       "    <tr>\n",
       "      <th>17</th>\n",
       "      <td>Sports</td>\n",
       "      <td>Jordan Palmer threw a 25-yard touchdown pass t...</td>\n",
       "    </tr>\n",
       "    <tr>\n",
       "      <th>18</th>\n",
       "      <td>Sci_Tech</td>\n",
       "      <td>The Open Source Development Labs has gone into...</td>\n",
       "    </tr>\n",
       "    <tr>\n",
       "      <th>19</th>\n",
       "      <td>Sports</td>\n",
       "      <td>Jeff Brehaut shot an 11-under 61 Friday and to...</td>\n",
       "    </tr>\n",
       "  </tbody>\n",
       "</table>\n",
       "</div>"
      ],
      "text/plain": [
       "       label                                               body\n",
       "0   Sci_Tech  Mobile phone giant Nokia has unveiled its firs...\n",
       "1     Sports  Australia crushed New Zealand by 213 runs on t...\n",
       "2     Sports  Flinching in the trenches, holding around quar...\n",
       "3     Sports  Miami Dolphins owner Wayne Huizenga and presid...\n",
       "4   Sci_Tech  PeopleSoft's Board of Directors voted Wednesda...\n",
       "5   Sci_Tech  Edward Bitet fought in World War II, built aff...\n",
       "6   Business  LARRY Ellison, the chief executive of software...\n",
       "7   Sci_Tech  Indonesian police on Tuesday summoned the Amer...\n",
       "8      World  Police defused a time-bomb in a town near Prim...\n",
       "9      World  A full season has passed since the UN Security...\n",
       "10  Sci_Tech  The addictive brutality and enveloping strateg...\n",
       "11    Sports  Gerald Williams and Eric Valent hit solo home ...\n",
       "12     World  The Palestinians have taken a double hit this ...\n",
       "13  Sci_Tech  Hitachi Global Storage Technologies Inc. and I...\n",
       "14  Sci_Tech  The new desktops, priced between \\$600 and \\$7...\n",
       "15    Sports  It was a fight that was to receive national ex...\n",
       "16  Business  Kraft Foods Inc. &lt;A HREF=\"http://www.invest...\n",
       "17    Sports  Jordan Palmer threw a 25-yard touchdown pass t...\n",
       "18  Sci_Tech  The Open Source Development Labs has gone into...\n",
       "19    Sports  Jeff Brehaut shot an 11-under 61 Friday and to..."
      ]
     },
     "execution_count": 9,
     "metadata": {},
     "output_type": "execute_result"
    }
   ],
   "source": [
    "# confirm articles are cleaned\n",
    "news.head(20)"
   ]
  },
  {
   "cell_type": "markdown",
   "metadata": {},
   "source": [
    "### Compute token counts"
   ]
  },
  {
   "cell_type": "code",
   "execution_count": 10,
   "metadata": {
    "tags": []
   },
   "outputs": [
    {
     "data": {
      "text/plain": [
       "(127600, 3486)"
      ]
     },
     "execution_count": 10,
     "metadata": {},
     "output_type": "execute_result"
    }
   ],
   "source": [
    "# set up a vectorizer object\n",
    "count_vectorizer = CountVectorizer(\n",
    "    strip_accents='unicode', # collapse accents to base character\n",
    "    stop_words=None, # do not remove stop words\n",
    "    binary=False, # do not binarize features\n",
    "    #max_features=1000,\n",
    "    min_df=0.001 # limit features to those that occur in at least 0.1% of articles\n",
    ")\n",
    "\n",
    "# perform vectorization\n",
    "X = count_vectorizer.fit_transform(news['body'])\n",
    "\n",
    "# vectorized shape\n",
    "X.shape"
   ]
  },
  {
   "cell_type": "code",
   "execution_count": 11,
   "metadata": {
    "tags": []
   },
   "outputs": [
    {
     "data": {
      "text/plain": [
       "array(['amd', 'america', 'american', 'americans', 'amid', 'among',\n",
       "       'amount', 'amp', 'an', 'anaheim'], dtype=object)"
      ]
     },
     "execution_count": 11,
     "metadata": {},
     "output_type": "execute_result"
    }
   ],
   "source": [
    "# what do the columns measure?\n",
    "count_vectorizer.get_feature_names_out()[200:210]"
   ]
  },
  {
   "cell_type": "code",
   "execution_count": 12,
   "metadata": {
    "tags": []
   },
   "outputs": [
    {
     "data": {
      "text/plain": [
       "3216050"
      ]
     },
     "execution_count": 12,
     "metadata": {},
     "output_type": "execute_result"
    }
   ],
   "source": [
    "# total word count in our corpus?\n",
    "X.sum()"
   ]
  },
  {
   "cell_type": "markdown",
   "metadata": {},
   "source": [
    "This corpus isn't very big. Or, well, the documents are pretty short, on average: 3.2M words / 127k documents = about 25 words per document. This fact will make classification a little harder than it would be if we had full documents."
   ]
  },
  {
   "cell_type": "markdown",
   "metadata": {},
   "source": [
    "### Classify sports (vs everything else)\n",
    "\n",
    "We'll try **Bernouli naïve Bayes**, **Multinomial naïve Bayes**, and **Gaussian naïve Bayes** classifiers. The difference is that the Bernouli version first transforms our input features into ones and zeros, thereby coding for the presence or absence of each word in each document (but not accounting for how many times the word occurs in the document). Multinomial NB does not binarize inputs, so accounts for the number of occurrences. But Multinomial NB *does* expect nonnegative integers as input. Gaussian NB works with continuous inputs.\n",
    "\n",
    "There's no principled reason to prefer Bernouli, multinomial, or Gaussian NB. Use whichever one produces better results on your data (and is suitable for the type of input data you're using). Bernouli can be useful in the case where most documents use any word only a few times at most, rare documents use some words very many times, but you don't consider the rare, high-usage documents to be fundamentally unlike the other documents that use the same words just a few times.\n",
    "\n",
    "**Remember:** when we call `.fit()` (as we do explicitly here, or under the hood of `cross_val_score`, for example), what we're learning are the empirical probabilities of each word in each class."
   ]
  },
  {
   "cell_type": "code",
   "execution_count": 13,
   "metadata": {
    "tags": []
   },
   "outputs": [
    {
     "data": {
      "text/plain": [
       "array(['Sci_Tech', 'Sports', 'Business', 'World'], dtype=object)"
      ]
     },
     "execution_count": 13,
     "metadata": {},
     "output_type": "execute_result"
    }
   ],
   "source": [
    "news.label.unique()"
   ]
  },
  {
   "cell_type": "code",
   "execution_count": 14,
   "metadata": {
    "tags": []
   },
   "outputs": [
    {
     "data": {
      "text/plain": [
       "label\n",
       "Sci_Tech    31900\n",
       "Sports      31900\n",
       "Business    31900\n",
       "World       31900\n",
       "Name: count, dtype: int64"
      ]
     },
     "execution_count": 14,
     "metadata": {},
     "output_type": "execute_result"
    }
   ],
   "source": [
    "news.label.value_counts()"
   ]
  },
  {
   "cell_type": "code",
   "execution_count": 15,
   "metadata": {
    "tags": []
   },
   "outputs": [],
   "source": [
    "# make boolean array of sports/other labels\n",
    "y = news['label'] == 'Sports'"
   ]
  },
  {
   "cell_type": "code",
   "execution_count": 16,
   "metadata": {},
   "outputs": [
    {
     "data": {
      "text/plain": [
       "(127600,)"
      ]
     },
     "execution_count": 16,
     "metadata": {},
     "output_type": "execute_result"
    }
   ],
   "source": [
    "y.shape"
   ]
  },
  {
   "cell_type": "code",
   "execution_count": 17,
   "metadata": {
    "tags": []
   },
   "outputs": [],
   "source": [
    "# split into train and test sets\n",
    "# --> limit to 1000 articles for demo purposes <--\n",
    "X_train, X_test, y_train, y_test = train_test_split(X[:1000], y[:1000])"
   ]
  },
  {
   "cell_type": "code",
   "execution_count": 18,
   "metadata": {
    "tags": []
   },
   "outputs": [
    {
     "name": "stdout",
     "output_type": "stream",
     "text": [
      "Performance on TRAINING data\n",
      "              precision    recall  f1-score   support\n",
      "\n",
      "       False       0.99      0.96      0.98       580\n",
      "        True       0.88      0.98      0.93       170\n",
      "\n",
      "    accuracy                           0.97       750\n",
      "   macro avg       0.94      0.97      0.95       750\n",
      "weighted avg       0.97      0.97      0.97       750\n",
      "\n"
     ]
    }
   ],
   "source": [
    "# score BernouliNB classifier on train and test data\n",
    "clf = BernoulliNB().fit(X_train, y_train)\n",
    "y_train_pred = clf.predict(X_train)\n",
    "print(\"Performance on TRAINING data\")\n",
    "print(classification_report(y_train_pred, y_train))"
   ]
  },
  {
   "cell_type": "code",
   "execution_count": 19,
   "metadata": {
    "tags": []
   },
   "outputs": [
    {
     "name": "stdout",
     "output_type": "stream",
     "text": [
      "Performance on TEST data\n",
      "              precision    recall  f1-score   support\n",
      "\n",
      "       False       0.99      0.86      0.92       206\n",
      "        True       0.61      0.98      0.75        44\n",
      "\n",
      "    accuracy                           0.88       250\n",
      "   macro avg       0.80      0.92      0.84       250\n",
      "weighted avg       0.93      0.88      0.89       250\n",
      "\n"
     ]
    }
   ],
   "source": [
    "y_test_pred = clf.predict(X_test)\n",
    "print(\"Performance on TEST data\")\n",
    "print(classification_report(y_test_pred, y_test))"
   ]
  },
  {
   "cell_type": "markdown",
   "metadata": {},
   "source": [
    "There is evidence of overfitting in this case, because we perform significantly better when we make preditions on the training data than when we do the same on held-out test data\n",
    "\n",
    "How about in the multinomial case?"
   ]
  },
  {
   "cell_type": "code",
   "execution_count": 20,
   "metadata": {
    "tags": []
   },
   "outputs": [
    {
     "name": "stdout",
     "output_type": "stream",
     "text": [
      "Performance on TRAINING data\n",
      "              precision    recall  f1-score   support\n",
      "\n",
      "       False       0.99      1.00      0.99       558\n",
      "        True       0.99      0.97      0.98       192\n",
      "\n",
      "    accuracy                           0.99       750\n",
      "   macro avg       0.99      0.99      0.99       750\n",
      "weighted avg       0.99      0.99      0.99       750\n",
      "\n"
     ]
    }
   ],
   "source": [
    "# score Multinomial classifier on train and test data\n",
    "clf = MultinomialNB().fit(X_train, y_train)\n",
    "y_train_pred = clf.predict(X_train)\n",
    "print(\"Performance on TRAINING data\")\n",
    "print(classification_report(y_train_pred, y_train))"
   ]
  },
  {
   "cell_type": "code",
   "execution_count": 21,
   "metadata": {
    "tags": []
   },
   "outputs": [
    {
     "name": "stdout",
     "output_type": "stream",
     "text": [
      "Performance on TEST data\n",
      "              precision    recall  f1-score   support\n",
      "\n",
      "       False       0.97      0.96      0.97       181\n",
      "        True       0.90      0.93      0.91        69\n",
      "\n",
      "    accuracy                           0.95       250\n",
      "   macro avg       0.94      0.94      0.94       250\n",
      "weighted avg       0.95      0.95      0.95       250\n",
      "\n"
     ]
    }
   ],
   "source": [
    "y_test_pred = clf.predict(X_test)\n",
    "print(\"Performance on TEST data\")\n",
    "print(classification_report(y_test_pred, y_test))"
   ]
  },
  {
   "cell_type": "markdown",
   "metadata": {},
   "source": [
    "Multinomial NB performs just a tiny bit better in this case, but not enough to matter, really. And we're obviously still overfitting.\n",
    "\n",
    "Aside: One reason to like NB classifiers is that they're really fast. Sklearn's NB classifiers are over 100 times faster than logistic regression on the same task (and they produce comparable accuracy). This equivalent accuracy won't always be true, of course, but the speedup can be a big plus with large datasets.\n",
    "\n",
    "Bernouli NB is slower than multinomial NB due to binarization overhead. But the difference is trivial here."
   ]
  },
  {
   "cell_type": "markdown",
   "metadata": {},
   "source": [
    "### Select the most informative features\n",
    "\n",
    "Let's see how well we can do with lower-dimension inputs. We'll do this in two ways:\n",
    "\n",
    "1. Rank the input features (token counts) according to the degree to which their presence/absence matches the presence/absence of the `sports` class label. High mutual information between tokens and class labels suggests that a token will be a useful feature for our classifier. We'll also evaluate the *F*-statistic as a criterion and try out permutation importance, too.\n",
    "\n",
    "2. We'll also try dimension reduction via Truncated SVD, as we studied in previous lectures."
   ]
  },
  {
   "cell_type": "markdown",
   "metadata": {},
   "source": [
    "#### Mutual information"
   ]
  },
  {
   "cell_type": "code",
   "execution_count": 22,
   "metadata": {
    "tags": []
   },
   "outputs": [
    {
     "name": "stdout",
     "output_type": "stream",
     "text": [
      "CPU times: user 1.7 s, sys: 5.58 ms, total: 1.7 s\n",
      "Wall time: 1.7 s\n"
     ]
    }
   ],
   "source": [
    "# calculate mutual info scores btw each feature and the target label\n",
    "%time mi = mutual_info_classif(X_train, y_train)"
   ]
  },
  {
   "cell_type": "markdown",
   "metadata": {},
   "source": [
    "Not fast!"
   ]
  },
  {
   "cell_type": "code",
   "execution_count": 23,
   "metadata": {
    "tags": []
   },
   "outputs": [
    {
     "data": {
      "text/plain": [
       "(3486,)"
      ]
     },
     "execution_count": 23,
     "metadata": {},
     "output_type": "execute_result"
    }
   ],
   "source": [
    "mi.shape"
   ]
  },
  {
   "cell_type": "code",
   "execution_count": 24,
   "metadata": {
    "tags": []
   },
   "outputs": [
    {
     "data": {
      "text/plain": [
       "array([0.00125613, 0.00363214, 0.00069532, ..., 0.0007577 , 0.00152395,\n",
       "       0.        ])"
      ]
     },
     "execution_count": 24,
     "metadata": {},
     "output_type": "execute_result"
    }
   ],
   "source": [
    "mi"
   ]
  },
  {
   "cell_type": "code",
   "execution_count": 25,
   "metadata": {
    "tags": []
   },
   "outputs": [
    {
     "data": {
      "text/plain": [
       "array([1636,  810, 1762, ..., 1151, 1146, 3485])"
      ]
     },
     "execution_count": 25,
     "metadata": {},
     "output_type": "execute_result"
    }
   ],
   "source": [
    "# get indices of mi array, sorted from highest to lowest mutual info\n",
    "mi_indices = np.flip(mi.argsort()) # np.flip reverses order; want high -> low\n",
    "mi_indices"
   ]
  },
  {
   "cell_type": "markdown",
   "metadata": {},
   "source": [
    "**Discuss**: What do you expect to be some of the most informative features (words) for the **sports** catengory? That is, what words occurs often in sports stories, but not very often in other kinds of news articles?"
   ]
  },
  {
   "cell_type": "code",
   "execution_count": 26,
   "metadata": {
    "tags": []
   },
   "outputs": [
    {
     "data": {
      "text/plain": [
       "'its'"
      ]
     },
     "execution_count": 26,
     "metadata": {},
     "output_type": "execute_result"
    }
   ],
   "source": [
    "# the single most informative sports feature\n",
    "count_vectorizer.get_feature_names_out()[mi_indices[0]]"
   ]
  },
  {
   "cell_type": "code",
   "execution_count": 27,
   "metadata": {
    "tags": []
   },
   "outputs": [
    {
     "data": {
      "text/plain": [
       "array(['its', 'cup', 'league', 'game', 'sox', 'red', 'season', 'the',\n",
       "       'victory', 'his'], dtype=object)"
      ]
     },
     "execution_count": 27,
     "metadata": {},
     "output_type": "execute_result"
    }
   ],
   "source": [
    "# sort the feature data and column labels\n",
    "X_train_sorted = X_train[:, mi_indices]\n",
    "X_test_sorted = X_test[:, mi_indices]\n",
    "features_sorted = np.array(count_vectorizer.get_feature_names_out())[mi_indices]\n",
    "features_sorted[:10]"
   ]
  },
  {
   "cell_type": "code",
   "execution_count": 28,
   "metadata": {
    "tags": []
   },
   "outputs": [
    {
     "name": "stdout",
     "output_type": "stream",
     "text": [
      "              precision    recall  f1-score   support\n",
      "\n",
      "       False       0.93      0.90      0.92       186\n",
      "        True       0.73      0.81      0.77        64\n",
      "\n",
      "    accuracy                           0.88       250\n",
      "   macro avg       0.83      0.86      0.84       250\n",
      "weighted avg       0.88      0.88      0.88       250\n",
      "\n"
     ]
    }
   ],
   "source": [
    "# performance with top 100 features\n",
    "clf = MultinomialNB().fit(X_train_sorted[:,:100], y_train)\n",
    "y_pred = clf.predict(X_test_sorted[:,:100])\n",
    "print(classification_report(y_pred, y_test))"
   ]
  },
  {
   "cell_type": "markdown",
   "metadata": {},
   "source": [
    "Note that we've suffered just a few points of weighted average F1 decrease despite throwing away all but 100 out of c. 3,500 original features. (Exact performance will vary with every run, depending on the randomization of the train/test split.)"
   ]
  },
  {
   "cell_type": "markdown",
   "metadata": {},
   "source": [
    "Let's see how performance responds in input feature dimensionality in this case."
   ]
  },
  {
   "cell_type": "code",
   "execution_count": 29,
   "metadata": {
    "tags": []
   },
   "outputs": [
    {
     "data": {
      "image/png": "[encoded data removed]",
      "text/plain": [
       "<Figure size 640x480 with 1 Axes>"
      ]
     },
     "metadata": {},
     "output_type": "display_data"
    }
   ],
   "source": [
    "# how does performance respond to number of features used?\n",
    "num_features = [2**i for i in range(1,10)]\n",
    "f1s = []\n",
    "for i in num_features:\n",
    "    clf = MultinomialNB().fit(X_train_sorted[:,:i], y_train)\n",
    "    y_pred = clf.predict(X_test_sorted[:,:i])\n",
    "    f1s.append(f1_score(y_pred, y_test, average='weighted'))\n",
    "\n",
    "plt.scatter(num_features, f1s)\n",
    "plt.xlabel(\"Number of features used\")\n",
    "plt.ylabel(\"f1 score\")\n",
    "plt.show()"
   ]
  },
  {
   "cell_type": "markdown",
   "metadata": {},
   "source": [
    "#### In practice\n",
    "\n",
    "Split into train and test, fit a model, predict class labels, and examine classification errors. This is a typical workflow in production.\n",
    "\n",
    "We can make things a little easier by using the `SelectKBest` method, which handles all of the sorting and indexing that we performed by hand above."
   ]
  },
  {
   "cell_type": "code",
   "execution_count": 30,
   "metadata": {
    "tags": []
   },
   "outputs": [
    {
     "name": "stdout",
     "output_type": "stream",
     "text": [
      "              precision    recall  f1-score   support\n",
      "\n",
      "       False       0.93      0.90      0.92       186\n",
      "        True       0.73      0.81      0.77        64\n",
      "\n",
      "    accuracy                           0.88       250\n",
      "   macro avg       0.83      0.86      0.84       250\n",
      "weighted avg       0.88      0.88      0.88       250\n",
      "\n"
     ]
    }
   ],
   "source": [
    "# using the n most-informative features\n",
    "\n",
    "# fit selector\n",
    "n_features = 100\n",
    "selector = SelectKBest(k=n_features, score_func=mutual_info_classif).fit(X_train, y_train)\n",
    "\n",
    "# select best features\n",
    "X_train_selected = selector.transform(X_train)\n",
    "X_test_selected = selector.transform(X_test)\n",
    "\n",
    "# fit and predict\n",
    "clf = MultinomialNB().fit(X_train_selected, y_train)\n",
    "y_pred = clf.predict(X_test_selected)\n",
    "\n",
    "# examine performance\n",
    "print(classification_report(y_pred, y_test))"
   ]
  },
  {
   "cell_type": "code",
   "execution_count": 43,
   "metadata": {
    "tags": []
   },
   "outputs": [
    {
     "name": "stdout",
     "output_type": "stream",
     "text": [
      "Predictions: 250\n",
      "Erors: 59\n"
     ]
    },
    {
     "data": {
      "text/html": [
       "<div>\n",
       "<style scoped>\n",
       "    .dataframe tbody tr th:only-of-type {\n",
       "        vertical-align: middle;\n",
       "    }\n",
       "\n",
       "    .dataframe tbody tr th {\n",
       "        vertical-align: top;\n",
       "    }\n",
       "\n",
       "    .dataframe thead th {\n",
       "        text-align: right;\n",
       "    }\n",
       "</style>\n",
       "<table border=\"1\" class=\"dataframe\">\n",
       "  <thead>\n",
       "    <tr style=\"text-align: right;\">\n",
       "      <th></th>\n",
       "      <th>label</th>\n",
       "      <th>body</th>\n",
       "    </tr>\n",
       "  </thead>\n",
       "  <tbody>\n",
       "    <tr>\n",
       "      <th>255</th>\n",
       "      <td>Sports</td>\n",
       "      <td>The Seattle Seahawks had a bad fourth quarter against St. Louis two weeks ago, then a bad first quarter last week in New England.</td>\n",
       "    </tr>\n",
       "    <tr>\n",
       "      <th>938</th>\n",
       "      <td>Sports</td>\n",
       "      <td>Manager Eric Wedge wanted to hear the sound of hammer on rock Monday night at Comerica Park. He wanted to know that the Indians #39; offense was making little ones out of big ones again.</td>\n",
       "    </tr>\n",
       "    <tr>\n",
       "      <th>827</th>\n",
       "      <td>Sports</td>\n",
       "      <td>Formula One tyre makers Michelin believe high-speed blowouts at the last Belgian Grand Prix and in recent Monza tests were due to sharp kerbs and human error.</td>\n",
       "    </tr>\n",
       "    <tr>\n",
       "      <th>345</th>\n",
       "      <td>Sports</td>\n",
       "      <td>Tommy Tuberville isn #39;t much into computers and formulas to determine who should play for college football #39;s national championship.</td>\n",
       "    </tr>\n",
       "    <tr>\n",
       "      <th>810</th>\n",
       "      <td>Sports</td>\n",
       "      <td>Fifth-ranked Florida State was in the process of completing another comeback on the road, and Maryland coach Ralph Friedgen could think of only one course of action.</td>\n",
       "    </tr>\n",
       "  </tbody>\n",
       "</table>\n",
       "</div>"
      ],
      "text/plain": [
       "      label  \\\n",
       "255  Sports   \n",
       "938  Sports   \n",
       "827  Sports   \n",
       "345  Sports   \n",
       "810  Sports   \n",
       "\n",
       "                                                                                                                                                                                           body  \n",
       "255  The Seattle Seahawks had a bad fourth quarter against St. Louis two weeks ago, then a bad first quarter last week in New England.                                                           \n",
       "938  Manager Eric Wedge wanted to hear the sound of hammer on rock Monday night at Comerica Park. He wanted to know that the Indians #39; offense was making little ones out of big ones again.  \n",
       "827  Formula One tyre makers Michelin believe high-speed blowouts at the last Belgian Grand Prix and in recent Monza tests were due to sharp kerbs and human error.                              \n",
       "345  Tommy Tuberville isn #39;t much into computers and formulas to determine who should play for college football #39;s national championship.                                                  \n",
       "810  Fifth-ranked Florida State was in the process of completing another comeback on the road, and Maryland coach Ralph Friedgen could think of only one course of action.                       "
      ]
     },
     "metadata": {},
     "output_type": "display_data"
    }
   ],
   "source": [
    "# select erroneous predictions\n",
    "errors = y_test != y_pred             # boolean array of gold/pred mismatches\n",
    "errors = np.where(errors==True)       # index array of test set error locations\n",
    "error_index = y_test.index[errors[0]] # map test-set error positions to original indices\n",
    "\n",
    "news_errors = news.loc[error_index, ['label', 'body']] # select errors from original data\n",
    "\n",
    "print(\"Predictions:\", len(y_pred))\n",
    "print(\"Erors:\", len(error_index))\n",
    "\n",
    "with pd.option_context('display.max_colwidth', 0): # display errors\n",
    "    display(news_errors.sample(5))"
   ]
  },
  {
   "cell_type": "markdown",
   "metadata": {},
   "source": [
    "#### Truncated SVD\n",
    "\n",
    "Compare performance using SVD in place of most-informative features.\n",
    "\n",
    "**N.B.** In lecture, we talked about **standardizing** our input features before performing SVD, so that the variance isn't dominated simply by high-frequency words (in this case, words like \"and\" and \"the\" - we didn't perform stopword removal). Here, we're going to skip that step, so that we can preserve input sparsity (hence, computational and memory efficiency).\n",
    "\n",
    "If we *were* going to standardize our features, we'd do something like:\n",
    "\n",
    "```\n",
    "scaler = StandardScaler()\n",
    "X_scaled = scaler.fit_transform(X.toarray()) # cast input to dense array\n",
    "```\n",
    "We would need to transform our input matrix to dense format with `.toarray()`, since `StandardScaler` refuses to break sparsity. And if we were going to do all that, we'd be performing PCA anyway, so we'd just use PCA in that case."
   ]
  },
  {
   "cell_type": "code",
   "execution_count": 32,
   "metadata": {
    "tags": []
   },
   "outputs": [
    {
     "data": {
      "text/plain": [
       "(750, 100)"
      ]
     },
     "execution_count": 32,
     "metadata": {},
     "output_type": "execute_result"
    }
   ],
   "source": [
    "# reduce input dimensionality\n",
    "reducer = TruncatedSVD(n_components=100)\n",
    "X_train_reduced = reducer.fit_transform(X_train)\n",
    "X_test_reduced = reducer.transform(X_test)\n",
    "X_train_reduced.shape"
   ]
  },
  {
   "cell_type": "code",
   "execution_count": 33,
   "metadata": {
    "tags": []
   },
   "outputs": [
    {
     "data": {
      "text/plain": [
       "array([ 0.79085673,  0.70356931,  0.42031277, -0.29701387,  0.64681619,\n",
       "       -0.35532699, -0.15369706,  0.07211047, -0.24273754,  0.30836983,\n",
       "        0.71046793,  0.17294901, -0.30136392, -0.53209643, -0.27567238,\n",
       "       -0.01116163,  0.35941956, -0.01344454,  0.39122922,  0.38794108,\n",
       "        0.04067039, -0.18388449, -0.14394409,  0.24661572, -0.0724706 ,\n",
       "       -0.35682168, -0.22938   ,  0.11162681, -0.027419  , -0.04849846,\n",
       "       -0.19810508,  0.23308084, -0.1643026 ,  0.14313652,  0.35216159,\n",
       "       -0.28014162, -0.33531263,  0.0098925 , -0.24850464,  0.08631965,\n",
       "        0.0733321 , -0.06195463,  0.0088385 , -0.00751238, -0.13254445,\n",
       "        0.08334631, -0.17718607,  0.05814707, -0.04867387,  0.09288686,\n",
       "       -0.01178805, -0.17130755, -0.07392741, -0.18184809,  0.08016494,\n",
       "        0.30478634, -0.08810794, -0.07864459,  0.00770888, -0.08728861,\n",
       "       -0.14103467, -0.22931436, -0.06360749, -0.20461511, -0.00278499,\n",
       "        0.23068106, -0.30556213,  0.08009095, -0.10670783,  0.13427068,\n",
       "       -0.01548563, -0.04256541, -0.09017121, -0.03583415,  0.10979495,\n",
       "        0.04172862, -0.19808212, -0.01600804,  0.1128477 , -0.05581478,\n",
       "        0.28092501, -0.01939768,  0.42720904,  0.15824935,  0.13510167,\n",
       "        0.14148379,  0.1437712 , -0.28871101,  0.03159125, -0.02531832,\n",
       "        0.08710684,  0.07165444, -0.23328475, -0.02373516, -0.27840076,\n",
       "       -0.3353339 , -0.40603342,  0.15433443, -0.04211278, -0.10722505])"
      ]
     },
     "execution_count": 33,
     "metadata": {},
     "output_type": "execute_result"
    }
   ],
   "source": [
    "# examine new features for the first document\n",
    "X_train_reduced[0]"
   ]
  },
  {
   "cell_type": "code",
   "execution_count": 34,
   "metadata": {
    "tags": []
   },
   "outputs": [
    {
     "data": {
      "text/plain": [
       "array([[ 0.00542199,  0.01055858,  0.00306224, ...,  0.00228302,\n",
       "         0.00113279,  0.        ],\n",
       "       [ 0.00228903,  0.00799538,  0.00564392, ..., -0.00138833,\n",
       "        -0.00180166,  0.        ],\n",
       "       [-0.00251137,  0.00891312,  0.00453846, ..., -0.00118962,\n",
       "        -0.00032591, -0.        ],\n",
       "       ...,\n",
       "       [-0.00129737, -0.06205105, -0.02249646, ...,  0.00581111,\n",
       "         0.00555467,  0.        ],\n",
       "       [-0.0019473 , -0.03590412, -0.01854199, ...,  0.00147461,\n",
       "        -0.00482454,  0.        ],\n",
       "       [-0.01715078,  0.043033  , -0.02233021, ...,  0.01243835,\n",
       "         0.00269987, -0.        ]])"
      ]
     },
     "execution_count": 34,
     "metadata": {},
     "output_type": "execute_result"
    }
   ],
   "source": [
    "# could examine loadings\n",
    "reducer.components_"
   ]
  },
  {
   "cell_type": "code",
   "execution_count": 35,
   "metadata": {
    "tags": []
   },
   "outputs": [
    {
     "data": {
      "text/plain": [
       "(3486,)"
      ]
     },
     "execution_count": 35,
     "metadata": {},
     "output_type": "execute_result"
    }
   ],
   "source": [
    "# loadings are distributed over all input features\n",
    "reducer.components_[0].shape"
   ]
  },
  {
   "cell_type": "code",
   "execution_count": 36,
   "metadata": {
    "tags": []
   },
   "outputs": [
    {
     "name": "stdout",
     "output_type": "stream",
     "text": [
      "              precision    recall  f1-score   support\n",
      "\n",
      "       False       0.98      0.76      0.86       232\n",
      "        True       0.21      0.83      0.34        18\n",
      "\n",
      "    accuracy                           0.76       250\n",
      "   macro avg       0.60      0.80      0.60       250\n",
      "weighted avg       0.93      0.76      0.82       250\n",
      "\n"
     ]
    }
   ],
   "source": [
    "# performace using top SVD components\n",
    "clf = GaussianNB().fit(X_train_reduced, y_train)\n",
    "y_pred = clf.predict(X_test_reduced)\n",
    "print(classification_report(y_pred, y_test))"
   ]
  },
  {
   "cell_type": "markdown",
   "metadata": {},
   "source": [
    "We have to use `GaussianNB`, because multinomial NB (as the name suggests) expects purely positive, integer-valued inputs. Gaussian NB accepts all real-valued inputs.\n",
    "\n",
    "Performance here isn't as good as it was when we used the top 100 **sports-specific** features (recall that our task is **sports** classification). But the SVD features were more than an order of magnitude faster to calculate and, more importantly, should be useful if we wanted to classify any of the other categories (because the SVD dimensions capture overall variance in the data, rather than being tied to any specific category). \n",
    "\n",
    "As it turns out *in this case*, that isn't really true: top sports features outperform SVD in the sports case, but are surprisingly close to SVD performance for the other categories, too. Think about why this might be true in the special case of language data? (High dimensionality, correlated features, lots of nonuniform structure in the data; 100 features are a *lot* for just 1k observations). If you're interested, you might try to implement these evaluations for yourself."
   ]
  },
  {
   "cell_type": "markdown",
   "metadata": {},
   "source": [
    "#### Permutation importance\n",
    "\n",
    "Permutation importance measures the impact on classifier performance of rendering a feature *uninformative*. The idea is that a feature is important if removing it tanks classification performance. Specifically, we will *permute* (shuffle) the values contained in a feature vector, breaking any possible association between those values and the target label."
   ]
  },
  {
   "cell_type": "code",
   "execution_count": 37,
   "metadata": {
    "tags": []
   },
   "outputs": [
    {
     "name": "stdout",
     "output_type": "stream",
     "text": [
      "CPU times: user 9.02 s, sys: 598 ms, total: 9.62 s\n",
      "Wall time: 8.52 s\n"
     ]
    }
   ],
   "source": [
    "%%time\n",
    "clf = MultinomialNB().fit(X_train_selected, y_train)\n",
    "\n",
    "r = permutation_importance(\n",
    "    clf, \n",
    "    X_test_selected.toarray(), # expects dense input \n",
    "    y_test,\n",
    "    scoring='f1_weighted',\n",
    "    n_repeats=100\n",
    ")"
   ]
  },
  {
   "cell_type": "code",
   "execution_count": 38,
   "metadata": {
    "tags": []
   },
   "outputs": [
    {
     "name": "stdout",
     "output_type": "stream",
     "text": [
      "Permutation feature importance:\n",
      "\n",
      "         cup  0.016 +/- 0.005\n",
      "     england  0.010 +/- 0.005\n",
      "         its  0.010 +/- 0.008\n",
      "        game  0.010 +/- 0.005\n",
      "    williams  0.010 +/- 0.003\n",
      "       right  0.009 +/- 0.003\n",
      "          it  0.008 +/- 0.006\n",
      "     company  0.008 +/- 0.008\n",
      "        said  0.007 +/- 0.006\n",
      "        fans  0.006 +/- 0.003\n",
      "        play  0.006 +/- 0.004\n",
      "     victory  0.006 +/- 0.003\n",
      "      giants  0.005 +/- 0.004\n",
      "         his  0.005 +/- 0.003\n",
      "        shot  0.005 +/- 0.003\n",
      "      league  0.005 +/- 0.002\n",
      "       coach  0.005 +/- 0.003\n",
      "      points  0.005 +/- 0.003\n",
      "    football  0.005 +/- 0.004\n",
      "         tim  0.005 +/- 0.002\n",
      "  postseason  0.004 +/- 0.002\n",
      "     players  0.004 +/- 0.002\n",
      "      rookie  0.004 +/- 0.003\n",
      "        when  0.004 +/- 0.002\n"
     ]
    }
   ],
   "source": [
    "print(\"Permutation feature importance:\\n\")\n",
    "\n",
    "for i in r.importances_mean.argsort()[::-1]:\n",
    "    # only display significant features\n",
    "    if r.importances_mean[i] - 1 * r.importances_std[i] > 0:\n",
    "        word = count_vectorizer.get_feature_names_out()[int(selector.get_feature_names_out()[i].strip('x'))]\n",
    "        print(f\"{word:>12}  {r.importances_mean[i]:.3f} +/- {r.importances_std[i]:.3f}\")"
   ]
  },
  {
   "cell_type": "code",
   "execution_count": null,
   "metadata": {},
   "outputs": [],
   "source": []
  }
 ],
 "metadata": {
  "kernelspec": {
   "display_name": "Python 3 (ipykernel)",
   "language": "python",
   "name": "python3"
  },
  "language_info": {
   "codemirror_mode": {
    "name": "ipython",
    "version": 3
   },
   "file_extension": ".py",
   "mimetype": "text/x-python",
   "name": "python",
   "nbconvert_exporter": "python",
   "pygments_lexer": "ipython3",
   "version": "3.11.9"
  }
 },
 "nbformat": 4,
 "nbformat_minor": 4
}
